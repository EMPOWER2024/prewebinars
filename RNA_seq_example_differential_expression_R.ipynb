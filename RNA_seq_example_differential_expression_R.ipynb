{
  "nbformat": 4,
  "nbformat_minor": 0,
  "metadata": {
    "colab": {
      "provenance": [],
      "include_colab_link": true
    },
    "kernelspec": {
      "name": "ir",
      "display_name": "R"
    },
    "language_info": {
      "name": "R"
    }
  },
  "cells": [
    {
      "cell_type": "markdown",
      "metadata": {
        "id": "view-in-github",
        "colab_type": "text"
      },
      "source": [
        "<a href=\"https://colab.research.google.com/github/EMPOWER2024/prewebinars/blob/main/RNA_seq_example_differential_expression_R.ipynb\" target=\"_parent\"><img src=\"https://colab.research.google.com/assets/colab-badge.svg\" alt=\"Open In Colab\"/></a>"
      ]
    },
    {
      "cell_type": "code",
      "execution_count": null,
      "metadata": {
        "colab": {
          "base_uri": "https://localhost:8080/"
        },
        "id": "IgeG-h8m0CUf",
        "outputId": "1eb3505b-8c17-4dfb-f95e-3f3b38045a2b"
      },
      "outputs": [
        {
          "output_type": "stream",
          "name": "stderr",
          "text": [
            "Installing package into ‘/usr/local/lib/R/site-library’\n",
            "(as ‘lib’ is unspecified)\n",
            "\n",
            "'getOption(\"repos\")' replaces Bioconductor standard repositories, see\n",
            "'help(\"repositories\", package = \"BiocManager\")' for details.\n",
            "Replacement repositories:\n",
            "    CRAN: https://cran.rstudio.com\n",
            "\n",
            "Bioconductor version 3.19 (BiocManager 1.30.23), R 4.4.1 (2024-06-14)\n",
            "\n",
            "Installing package(s) 'BiocVersion', 'pasilla'\n",
            "\n",
            "also installing the dependencies ‘formatR’, ‘lambda.r’, ‘futile.options’, ‘UCSC.utils’, ‘GenomeInfoDbData’, ‘abind’, ‘SparseArray’, ‘plogr’, ‘png’, ‘filelock’, ‘XML’, ‘futile.logger’, ‘snow’, ‘BH’, ‘MatrixGenerics’, ‘GenomeInfoDb’, ‘S4Arrays’, ‘DelayedArray’, ‘XVector’, ‘matrixStats’, ‘locfit’, ‘RcppArmadillo’, ‘RSQLite’, ‘KEGGREST’, ‘BiocFileCache’, ‘Biostrings’, ‘zlibbioc’, ‘bitops’, ‘Rhtslib’, ‘annotate’, ‘BiocParallel’, ‘Biobase’, ‘SummarizedExperiment’, ‘IRanges’, ‘GenomicRanges’, ‘DESeq2’, ‘AnnotationDbi’, ‘S4Vectors’, ‘BiocGenerics’, ‘biomaRt’, ‘hwriter’, ‘Rsamtools’, ‘statmod’, ‘geneplotter’, ‘genefilter’, ‘DEXSeq’\n",
            "\n",
            "\n",
            "Old packages: 'nlme'\n",
            "\n",
            "'getOption(\"repos\")' replaces Bioconductor standard repositories, see\n",
            "'help(\"repositories\", package = \"BiocManager\")' for details.\n",
            "Replacement repositories:\n",
            "    CRAN: https://cran.rstudio.com\n",
            "\n",
            "Bioconductor version 3.19 (BiocManager 1.30.23), R 4.4.1 (2024-06-14)\n",
            "\n",
            "Warning message:\n",
            "“package(s) not installed when version(s) same as or greater than current; use\n",
            "  `force = TRUE` to re-install: 'DESeq2'”\n",
            "Old packages: 'nlme'\n",
            "\n",
            "'getOption(\"repos\")' replaces Bioconductor standard repositories, see\n",
            "'help(\"repositories\", package = \"BiocManager\")' for details.\n",
            "Replacement repositories:\n",
            "    CRAN: https://cran.rstudio.com\n",
            "\n",
            "Bioconductor version 3.19 (BiocManager 1.30.23), R 4.4.1 (2024-06-14)\n",
            "\n",
            "Installing package(s) 'apeglm'\n",
            "\n",
            "also installing the dependencies ‘numDeriv’, ‘bdsmatrix’, ‘mvtnorm’, ‘plyr’, ‘coda’, ‘bbmle’, ‘emdbook’, ‘RcppEigen’, ‘RcppNumerical’\n",
            "\n",
            "\n",
            "Old packages: 'nlme'\n",
            "\n",
            "'getOption(\"repos\")' replaces Bioconductor standard repositories, see\n",
            "'help(\"repositories\", package = \"BiocManager\")' for details.\n",
            "Replacement repositories:\n",
            "    CRAN: https://cran.rstudio.com\n",
            "\n",
            "Bioconductor version 3.19 (BiocManager 1.30.23), R 4.4.1 (2024-06-14)\n",
            "\n",
            "Installing package(s) 'DEGreport'\n",
            "\n",
            "also installing the dependencies ‘rjson’, ‘iterators’, ‘gridExtra’, ‘GlobalOptions’, ‘shape’, ‘GetoptLong’, ‘clue’, ‘foreach’, ‘doParallel’, ‘ALL’, ‘viridis’, ‘limma’, ‘mnormt’, ‘GPArotation’, ‘circlize’, ‘ComplexHeatmap’, ‘cowplot’, ‘ConsensusClusterPlus’, ‘dendextend’, ‘edgeR’, ‘ggdendro’, ‘ggrepel’, ‘logging’, ‘psych’, ‘reshape’\n",
            "\n",
            "\n",
            "Old packages: 'nlme'\n",
            "\n",
            "Installing package into ‘/usr/local/lib/R/site-library’\n",
            "(as ‘lib’ is unspecified)\n",
            "\n",
            "Installing package into ‘/usr/local/lib/R/site-library’\n",
            "(as ‘lib’ is unspecified)\n",
            "\n"
          ]
        }
      ],
      "source": [
        "##FROM https://introtogenomics.readthedocs.io/en/latest/2021.11.11.DeseqTutorial.html\n",
        "# Takes about 10 minutes\n",
        "if (!requireNamespace(\"BiocManager\", quietly = TRUE))\n",
        "    install.packages(\"BiocManager\")\n",
        "\n",
        "BiocManager::install(\"pasilla\")\n",
        "BiocManager::install(\"DESeq2\")\n",
        "BiocManager::install(\"apeglm\")\n",
        "BiocManager::install(\"DEGreport\")\n",
        "install.packages(\"pheatmap\")\n",
        "install.packages(\"tidyverse\")"
      ]
    },
    {
      "cell_type": "code",
      "source": [
        "library(\"pasilla\")\n",
        "pasCts <- system.file(\"extdata\",\n",
        "                      \"pasilla_gene_counts.tsv\",\n",
        "                      package=\"pasilla\", mustWork=TRUE)\n",
        "pasAnno <- system.file(\"extdata\",\n",
        "                       \"pasilla_sample_annotation.csv\",\n",
        "                       package=\"pasilla\", mustWork=TRUE)\n",
        "cts <- as.matrix(read.csv(pasCts,sep=\"\\t\",row.names=\"gene_id\"))\n",
        "coldata <- read.csv(pasAnno, row.names=1)\n",
        "coldata <- coldata[,c(\"condition\",\"type\")]\n",
        "coldata$condition <- factor(coldata$condition)\n",
        "coldata$type <- factor(coldata$type)"
      ],
      "metadata": {
        "colab": {
          "base_uri": "https://localhost:8080/"
        },
        "id": "KXkMrAmt0SNH",
        "outputId": "9779b029-c342-44da-ddab-ec18da4a42c5"
      },
      "execution_count": null,
      "outputs": [
        {
          "output_type": "stream",
          "name": "stderr",
          "text": [
            "Loading required package: DEXSeq\n",
            "\n",
            "Loading required package: BiocParallel\n",
            "\n",
            "Loading required package: Biobase\n",
            "\n",
            "Loading required package: BiocGenerics\n",
            "\n",
            "\n",
            "Attaching package: ‘BiocGenerics’\n",
            "\n",
            "\n",
            "The following objects are masked from ‘package:stats’:\n",
            "\n",
            "    IQR, mad, sd, var, xtabs\n",
            "\n",
            "\n",
            "The following objects are masked from ‘package:base’:\n",
            "\n",
            "    anyDuplicated, aperm, append, as.data.frame, basename, cbind,\n",
            "    colnames, dirname, do.call, duplicated, eval, evalq, Filter, Find,\n",
            "    get, grep, grepl, intersect, is.unsorted, lapply, Map, mapply,\n",
            "    match, mget, order, paste, pmax, pmax.int, pmin, pmin.int,\n",
            "    Position, rank, rbind, Reduce, rownames, sapply, setdiff, table,\n",
            "    tapply, union, unique, unsplit, which.max, which.min\n",
            "\n",
            "\n",
            "Welcome to Bioconductor\n",
            "\n",
            "    Vignettes contain introductory material; view with\n",
            "    'browseVignettes()'. To cite Bioconductor, see\n",
            "    'citation(\"Biobase\")', and for packages 'citation(\"pkgname\")'.\n",
            "\n",
            "\n",
            "Loading required package: SummarizedExperiment\n",
            "\n",
            "Loading required package: MatrixGenerics\n",
            "\n",
            "Loading required package: matrixStats\n",
            "\n",
            "\n",
            "Attaching package: ‘matrixStats’\n",
            "\n",
            "\n",
            "The following objects are masked from ‘package:Biobase’:\n",
            "\n",
            "    anyMissing, rowMedians\n",
            "\n",
            "\n",
            "\n",
            "Attaching package: ‘MatrixGenerics’\n",
            "\n",
            "\n",
            "The following objects are masked from ‘package:matrixStats’:\n",
            "\n",
            "    colAlls, colAnyNAs, colAnys, colAvgsPerRowSet, colCollapse,\n",
            "    colCounts, colCummaxs, colCummins, colCumprods, colCumsums,\n",
            "    colDiffs, colIQRDiffs, colIQRs, colLogSumExps, colMadDiffs,\n",
            "    colMads, colMaxs, colMeans2, colMedians, colMins, colOrderStats,\n",
            "    colProds, colQuantiles, colRanges, colRanks, colSdDiffs, colSds,\n",
            "    colSums2, colTabulates, colVarDiffs, colVars, colWeightedMads,\n",
            "    colWeightedMeans, colWeightedMedians, colWeightedSds,\n",
            "    colWeightedVars, rowAlls, rowAnyNAs, rowAnys, rowAvgsPerColSet,\n",
            "    rowCollapse, rowCounts, rowCummaxs, rowCummins, rowCumprods,\n",
            "    rowCumsums, rowDiffs, rowIQRDiffs, rowIQRs, rowLogSumExps,\n",
            "    rowMadDiffs, rowMads, rowMaxs, rowMeans2, rowMedians, rowMins,\n",
            "    rowOrderStats, rowProds, rowQuantiles, rowRanges, rowRanks,\n",
            "    rowSdDiffs, rowSds, rowSums2, rowTabulates, rowVarDiffs, rowVars,\n",
            "    rowWeightedMads, rowWeightedMeans, rowWeightedMedians,\n",
            "    rowWeightedSds, rowWeightedVars\n",
            "\n",
            "\n",
            "The following object is masked from ‘package:Biobase’:\n",
            "\n",
            "    rowMedians\n",
            "\n",
            "\n",
            "Loading required package: GenomicRanges\n",
            "\n",
            "Loading required package: stats4\n",
            "\n",
            "Loading required package: S4Vectors\n",
            "\n",
            "\n",
            "Attaching package: ‘S4Vectors’\n",
            "\n",
            "\n",
            "The following object is masked from ‘package:utils’:\n",
            "\n",
            "    findMatches\n",
            "\n",
            "\n",
            "The following objects are masked from ‘package:base’:\n",
            "\n",
            "    expand.grid, I, unname\n",
            "\n",
            "\n",
            "Loading required package: IRanges\n",
            "\n",
            "Loading required package: GenomeInfoDb\n",
            "\n",
            "Loading required package: DESeq2\n",
            "\n",
            "Loading required package: AnnotationDbi\n",
            "\n",
            "Loading required package: RColorBrewer\n",
            "\n"
          ]
        }
      ]
    },
    {
      "cell_type": "code",
      "source": [
        "# gene raw counts\n",
        "cts"
      ],
      "metadata": {
        "colab": {
          "base_uri": "https://localhost:8080/",
          "height": 1000
        },
        "id": "80x2xIAK0xOV",
        "outputId": "da443f90-e30c-48aa-e40b-5eb3462b112f"
      },
      "execution_count": null,
      "outputs": [
        {
          "output_type": "display_data",
          "data": {
            "text/html": [
              "<table class=\"dataframe\">\n",
              "<caption>A matrix: 14599 × 7 of type int</caption>\n",
              "<thead>\n",
              "\t<tr><th></th><th scope=col>untreated1</th><th scope=col>untreated2</th><th scope=col>untreated3</th><th scope=col>untreated4</th><th scope=col>treated1</th><th scope=col>treated2</th><th scope=col>treated3</th></tr>\n",
              "</thead>\n",
              "<tbody>\n",
              "\t<tr><th scope=row>FBgn0000003</th><td>     0</td><td>     0</td><td>    0</td><td>    0</td><td>     0</td><td>    0</td><td>    1</td></tr>\n",
              "\t<tr><th scope=row>FBgn0000008</th><td>    92</td><td>   161</td><td>   76</td><td>   70</td><td>   140</td><td>   88</td><td>   70</td></tr>\n",
              "\t<tr><th scope=row>FBgn0000014</th><td>     5</td><td>     1</td><td>    0</td><td>    0</td><td>     4</td><td>    0</td><td>    0</td></tr>\n",
              "\t<tr><th scope=row>FBgn0000015</th><td>     0</td><td>     2</td><td>    1</td><td>    2</td><td>     1</td><td>    0</td><td>    0</td></tr>\n",
              "\t<tr><th scope=row>FBgn0000017</th><td>  4664</td><td>  8714</td><td> 3564</td><td> 3150</td><td>  6205</td><td> 3072</td><td> 3334</td></tr>\n",
              "\t<tr><th scope=row>FBgn0000018</th><td>   583</td><td>   761</td><td>  245</td><td>  310</td><td>   722</td><td>  299</td><td>  308</td></tr>\n",
              "\t<tr><th scope=row>FBgn0000022</th><td>     0</td><td>     1</td><td>    0</td><td>    0</td><td>     0</td><td>    0</td><td>    0</td></tr>\n",
              "\t<tr><th scope=row>FBgn0000024</th><td>    10</td><td>    11</td><td>    3</td><td>    3</td><td>    10</td><td>    7</td><td>    5</td></tr>\n",
              "\t<tr><th scope=row>FBgn0000028</th><td>     0</td><td>     1</td><td>    0</td><td>    0</td><td>     0</td><td>    1</td><td>    1</td></tr>\n",
              "\t<tr><th scope=row>FBgn0000032</th><td>  1446</td><td>  1713</td><td>  615</td><td>  672</td><td>  1698</td><td>  696</td><td>  757</td></tr>\n",
              "\t<tr><th scope=row>FBgn0000036</th><td>     2</td><td>     1</td><td>    0</td><td>    0</td><td>     1</td><td>    0</td><td>    1</td></tr>\n",
              "\t<tr><th scope=row>FBgn0000037</th><td>    15</td><td>    25</td><td>    9</td><td>    5</td><td>    20</td><td>   14</td><td>   17</td></tr>\n",
              "\t<tr><th scope=row>FBgn0000038</th><td>     0</td><td>     0</td><td>    0</td><td>    0</td><td>     0</td><td>    0</td><td>    0</td></tr>\n",
              "\t<tr><th scope=row>FBgn0000039</th><td>     0</td><td>     1</td><td>    0</td><td>    0</td><td>     0</td><td>    1</td><td>    1</td></tr>\n",
              "\t<tr><th scope=row>FBgn0000042</th><td>101664</td><td>120163</td><td>45880</td><td>53201</td><td>127363</td><td>76099</td><td>83164</td></tr>\n",
              "\t<tr><th scope=row>FBgn0000043</th><td> 33402</td><td> 41118</td><td>16007</td><td>18360</td><td> 56048</td><td>31421</td><td>34344</td></tr>\n",
              "\t<tr><th scope=row>FBgn0000044</th><td>    21</td><td>    63</td><td>   15</td><td>   13</td><td>    64</td><td>   28</td><td>   16</td></tr>\n",
              "\t<tr><th scope=row>FBgn0000045</th><td>     9</td><td>    15</td><td>    1</td><td>    5</td><td>    14</td><td>    4</td><td>    6</td></tr>\n",
              "\t<tr><th scope=row>FBgn0000046</th><td>    12</td><td>    50</td><td>   13</td><td>   14</td><td>    53</td><td>   31</td><td>   13</td></tr>\n",
              "\t<tr><th scope=row>FBgn0000047</th><td>     7</td><td>    21</td><td>    4</td><td>    4</td><td>    31</td><td>    9</td><td>    4</td></tr>\n",
              "\t<tr><th scope=row>FBgn0000052</th><td>  3026</td><td>  3587</td><td> 1624</td><td> 1944</td><td>  3169</td><td> 1843</td><td> 1912</td></tr>\n",
              "\t<tr><th scope=row>FBgn0000053</th><td>  2253</td><td>  2882</td><td> 1281</td><td> 1575</td><td>  3265</td><td> 1954</td><td> 2069</td></tr>\n",
              "\t<tr><th scope=row>FBgn0000054</th><td>   860</td><td>  1111</td><td>  445</td><td>  488</td><td>   988</td><td>  475</td><td>  535</td></tr>\n",
              "\t<tr><th scope=row>FBgn0000055</th><td>     0</td><td>     0</td><td>    0</td><td>    0</td><td>     1</td><td>    0</td><td>    0</td></tr>\n",
              "\t<tr><th scope=row>FBgn0000056</th><td>     0</td><td>     0</td><td>    0</td><td>    0</td><td>     0</td><td>    0</td><td>    0</td></tr>\n",
              "\t<tr><th scope=row>FBgn0000057</th><td>   805</td><td>  1144</td><td>  445</td><td>  539</td><td>   977</td><td>  553</td><td>  589</td></tr>\n",
              "\t<tr><th scope=row>FBgn0000061</th><td>     0</td><td>     1</td><td>    1</td><td>    3</td><td>     4</td><td>    1</td><td>    1</td></tr>\n",
              "\t<tr><th scope=row>FBgn0000063</th><td>   468</td><td>   732</td><td>  220</td><td>  269</td><td>   735</td><td>  339</td><td>  352</td></tr>\n",
              "\t<tr><th scope=row>FBgn0000064</th><td>  7764</td><td> 12370</td><td> 5009</td><td> 5553</td><td> 13068</td><td> 6941</td><td> 7905</td></tr>\n",
              "\t<tr><th scope=row>FBgn0000071</th><td>    82</td><td>   192</td><td>   74</td><td>   92</td><td>   972</td><td>  512</td><td>  594</td></tr>\n",
              "\t<tr><th scope=row>⋮</th><td>⋮</td><td>⋮</td><td>⋮</td><td>⋮</td><td>⋮</td><td>⋮</td><td>⋮</td></tr>\n",
              "\t<tr><th scope=row>FBgn0261537</th><td>    0</td><td>    0</td><td>   0</td><td>   0</td><td>    0</td><td>   0</td><td>   0</td></tr>\n",
              "\t<tr><th scope=row>FBgn0261538</th><td>    0</td><td>    0</td><td>   0</td><td>   0</td><td>    0</td><td>   0</td><td>   0</td></tr>\n",
              "\t<tr><th scope=row>FBgn0261545</th><td> 1862</td><td> 3577</td><td>1433</td><td>1386</td><td> 2424</td><td> 940</td><td>1004</td></tr>\n",
              "\t<tr><th scope=row>FBgn0261546</th><td>   28</td><td>   74</td><td>  29</td><td>  39</td><td>   17</td><td>  11</td><td>   8</td></tr>\n",
              "\t<tr><th scope=row>FBgn0261547</th><td>  785</td><td> 1377</td><td> 572</td><td> 505</td><td>  788</td><td> 406</td><td> 424</td></tr>\n",
              "\t<tr><th scope=row>FBgn0261548</th><td> 1636</td><td> 3085</td><td>1187</td><td>1118</td><td> 2973</td><td>1387</td><td>1564</td></tr>\n",
              "\t<tr><th scope=row>FBgn0261549</th><td>  438</td><td> 1033</td><td> 429</td><td> 420</td><td>  919</td><td> 437</td><td> 537</td></tr>\n",
              "\t<tr><th scope=row>FBgn0261550</th><td>12053</td><td>16368</td><td>7813</td><td>7801</td><td>11908</td><td>6875</td><td>7372</td></tr>\n",
              "\t<tr><th scope=row>FBgn0261551</th><td> 4264</td><td> 9312</td><td>3923</td><td>3818</td><td> 7407</td><td>4471</td><td>4649</td></tr>\n",
              "\t<tr><th scope=row>FBgn0261552</th><td> 7022</td><td>16750</td><td>5224</td><td>4760</td><td> 4233</td><td>1335</td><td>1394</td></tr>\n",
              "\t<tr><th scope=row>FBgn0261553</th><td> 1360</td><td> 2712</td><td>1085</td><td>1097</td><td> 1823</td><td> 931</td><td>1015</td></tr>\n",
              "\t<tr><th scope=row>FBgn0261554</th><td> 1506</td><td> 1859</td><td> 826</td><td> 778</td><td> 1680</td><td> 890</td><td> 896</td></tr>\n",
              "\t<tr><th scope=row>FBgn0261555</th><td>   68</td><td>  110</td><td>  29</td><td>  34</td><td>  124</td><td>  68</td><td>  75</td></tr>\n",
              "\t<tr><th scope=row>FBgn0261556</th><td> 3053</td><td> 4363</td><td>2064</td><td>1889</td><td> 4203</td><td>2641</td><td>2968</td></tr>\n",
              "\t<tr><th scope=row>FBgn0261560</th><td> 2373</td><td> 4455</td><td>1278</td><td>1657</td><td> 1866</td><td> 872</td><td>1052</td></tr>\n",
              "\t<tr><th scope=row>FBgn0261561</th><td>   61</td><td>  123</td><td>  37</td><td>  52</td><td>  162</td><td>  71</td><td>  77</td></tr>\n",
              "\t<tr><th scope=row>FBgn0261562</th><td>  445</td><td>  708</td><td> 273</td><td> 317</td><td>  528</td><td> 295</td><td> 355</td></tr>\n",
              "\t<tr><th scope=row>FBgn0261563</th><td> 1207</td><td> 2497</td><td>1197</td><td>1114</td><td> 3733</td><td>1909</td><td>1839</td></tr>\n",
              "\t<tr><th scope=row>FBgn0261564</th><td> 1258</td><td> 2042</td><td> 821</td><td> 938</td><td> 1754</td><td> 818</td><td>1004</td></tr>\n",
              "\t<tr><th scope=row>FBgn0261565</th><td>  872</td><td> 1029</td><td> 475</td><td> 469</td><td>  914</td><td> 440</td><td> 421</td></tr>\n",
              "\t<tr><th scope=row>FBgn0261566</th><td>    0</td><td>    0</td><td>   0</td><td>   0</td><td>    0</td><td>   0</td><td>   0</td></tr>\n",
              "\t<tr><th scope=row>FBgn0261567</th><td>    0</td><td>    0</td><td>   0</td><td>   0</td><td>    0</td><td>   0</td><td>   0</td></tr>\n",
              "\t<tr><th scope=row>FBgn0261568</th><td>    0</td><td>    0</td><td>   0</td><td>   0</td><td>    0</td><td>   0</td><td>   1</td></tr>\n",
              "\t<tr><th scope=row>FBgn0261569</th><td>    0</td><td>    1</td><td>   0</td><td>   0</td><td>    2</td><td>   0</td><td>   0</td></tr>\n",
              "\t<tr><th scope=row>FBgn0261570</th><td> 3296</td><td> 4910</td><td>2156</td><td>2060</td><td> 5077</td><td>3069</td><td>3022</td></tr>\n",
              "\t<tr><th scope=row>FBgn0261571</th><td>    0</td><td>    0</td><td>   0</td><td>   0</td><td>    1</td><td>   0</td><td>   0</td></tr>\n",
              "\t<tr><th scope=row>FBgn0261572</th><td>    4</td><td>   13</td><td>   4</td><td>  11</td><td>    7</td><td>   3</td><td>   3</td></tr>\n",
              "\t<tr><th scope=row>FBgn0261573</th><td> 2651</td><td> 3653</td><td>1571</td><td>1612</td><td> 3334</td><td>1848</td><td>1908</td></tr>\n",
              "\t<tr><th scope=row>FBgn0261574</th><td> 6385</td><td> 9318</td><td>3110</td><td>2819</td><td>10455</td><td>3508</td><td>3047</td></tr>\n",
              "\t<tr><th scope=row>FBgn0261575</th><td>    6</td><td>   53</td><td>   1</td><td>   3</td><td>   42</td><td>   3</td><td>   4</td></tr>\n",
              "</tbody>\n",
              "</table>\n"
            ],
            "text/markdown": "\nA matrix: 14599 × 7 of type int\n\n| <!--/--> | untreated1 | untreated2 | untreated3 | untreated4 | treated1 | treated2 | treated3 |\n|---|---|---|---|---|---|---|---|\n| FBgn0000003 |      0 |      0 |     0 |     0 |      0 |     0 |     1 |\n| FBgn0000008 |     92 |    161 |    76 |    70 |    140 |    88 |    70 |\n| FBgn0000014 |      5 |      1 |     0 |     0 |      4 |     0 |     0 |\n| FBgn0000015 |      0 |      2 |     1 |     2 |      1 |     0 |     0 |\n| FBgn0000017 |   4664 |   8714 |  3564 |  3150 |   6205 |  3072 |  3334 |\n| FBgn0000018 |    583 |    761 |   245 |   310 |    722 |   299 |   308 |\n| FBgn0000022 |      0 |      1 |     0 |     0 |      0 |     0 |     0 |\n| FBgn0000024 |     10 |     11 |     3 |     3 |     10 |     7 |     5 |\n| FBgn0000028 |      0 |      1 |     0 |     0 |      0 |     1 |     1 |\n| FBgn0000032 |   1446 |   1713 |   615 |   672 |   1698 |   696 |   757 |\n| FBgn0000036 |      2 |      1 |     0 |     0 |      1 |     0 |     1 |\n| FBgn0000037 |     15 |     25 |     9 |     5 |     20 |    14 |    17 |\n| FBgn0000038 |      0 |      0 |     0 |     0 |      0 |     0 |     0 |\n| FBgn0000039 |      0 |      1 |     0 |     0 |      0 |     1 |     1 |\n| FBgn0000042 | 101664 | 120163 | 45880 | 53201 | 127363 | 76099 | 83164 |\n| FBgn0000043 |  33402 |  41118 | 16007 | 18360 |  56048 | 31421 | 34344 |\n| FBgn0000044 |     21 |     63 |    15 |    13 |     64 |    28 |    16 |\n| FBgn0000045 |      9 |     15 |     1 |     5 |     14 |     4 |     6 |\n| FBgn0000046 |     12 |     50 |    13 |    14 |     53 |    31 |    13 |\n| FBgn0000047 |      7 |     21 |     4 |     4 |     31 |     9 |     4 |\n| FBgn0000052 |   3026 |   3587 |  1624 |  1944 |   3169 |  1843 |  1912 |\n| FBgn0000053 |   2253 |   2882 |  1281 |  1575 |   3265 |  1954 |  2069 |\n| FBgn0000054 |    860 |   1111 |   445 |   488 |    988 |   475 |   535 |\n| FBgn0000055 |      0 |      0 |     0 |     0 |      1 |     0 |     0 |\n| FBgn0000056 |      0 |      0 |     0 |     0 |      0 |     0 |     0 |\n| FBgn0000057 |    805 |   1144 |   445 |   539 |    977 |   553 |   589 |\n| FBgn0000061 |      0 |      1 |     1 |     3 |      4 |     1 |     1 |\n| FBgn0000063 |    468 |    732 |   220 |   269 |    735 |   339 |   352 |\n| FBgn0000064 |   7764 |  12370 |  5009 |  5553 |  13068 |  6941 |  7905 |\n| FBgn0000071 |     82 |    192 |    74 |    92 |    972 |   512 |   594 |\n| ⋮ | ⋮ | ⋮ | ⋮ | ⋮ | ⋮ | ⋮ | ⋮ |\n| FBgn0261537 |     0 |     0 |    0 |    0 |     0 |    0 |    0 |\n| FBgn0261538 |     0 |     0 |    0 |    0 |     0 |    0 |    0 |\n| FBgn0261545 |  1862 |  3577 | 1433 | 1386 |  2424 |  940 | 1004 |\n| FBgn0261546 |    28 |    74 |   29 |   39 |    17 |   11 |    8 |\n| FBgn0261547 |   785 |  1377 |  572 |  505 |   788 |  406 |  424 |\n| FBgn0261548 |  1636 |  3085 | 1187 | 1118 |  2973 | 1387 | 1564 |\n| FBgn0261549 |   438 |  1033 |  429 |  420 |   919 |  437 |  537 |\n| FBgn0261550 | 12053 | 16368 | 7813 | 7801 | 11908 | 6875 | 7372 |\n| FBgn0261551 |  4264 |  9312 | 3923 | 3818 |  7407 | 4471 | 4649 |\n| FBgn0261552 |  7022 | 16750 | 5224 | 4760 |  4233 | 1335 | 1394 |\n| FBgn0261553 |  1360 |  2712 | 1085 | 1097 |  1823 |  931 | 1015 |\n| FBgn0261554 |  1506 |  1859 |  826 |  778 |  1680 |  890 |  896 |\n| FBgn0261555 |    68 |   110 |   29 |   34 |   124 |   68 |   75 |\n| FBgn0261556 |  3053 |  4363 | 2064 | 1889 |  4203 | 2641 | 2968 |\n| FBgn0261560 |  2373 |  4455 | 1278 | 1657 |  1866 |  872 | 1052 |\n| FBgn0261561 |    61 |   123 |   37 |   52 |   162 |   71 |   77 |\n| FBgn0261562 |   445 |   708 |  273 |  317 |   528 |  295 |  355 |\n| FBgn0261563 |  1207 |  2497 | 1197 | 1114 |  3733 | 1909 | 1839 |\n| FBgn0261564 |  1258 |  2042 |  821 |  938 |  1754 |  818 | 1004 |\n| FBgn0261565 |   872 |  1029 |  475 |  469 |   914 |  440 |  421 |\n| FBgn0261566 |     0 |     0 |    0 |    0 |     0 |    0 |    0 |\n| FBgn0261567 |     0 |     0 |    0 |    0 |     0 |    0 |    0 |\n| FBgn0261568 |     0 |     0 |    0 |    0 |     0 |    0 |    1 |\n| FBgn0261569 |     0 |     1 |    0 |    0 |     2 |    0 |    0 |\n| FBgn0261570 |  3296 |  4910 | 2156 | 2060 |  5077 | 3069 | 3022 |\n| FBgn0261571 |     0 |     0 |    0 |    0 |     1 |    0 |    0 |\n| FBgn0261572 |     4 |    13 |    4 |   11 |     7 |    3 |    3 |\n| FBgn0261573 |  2651 |  3653 | 1571 | 1612 |  3334 | 1848 | 1908 |\n| FBgn0261574 |  6385 |  9318 | 3110 | 2819 | 10455 | 3508 | 3047 |\n| FBgn0261575 |     6 |    53 |    1 |    3 |    42 |    3 |    4 |\n\n",
            "text/latex": "A matrix: 14599 × 7 of type int\n\\begin{tabular}{r|lllllll}\n  & untreated1 & untreated2 & untreated3 & untreated4 & treated1 & treated2 & treated3\\\\\n\\hline\n\tFBgn0000003 &      0 &      0 &     0 &     0 &      0 &     0 &     1\\\\\n\tFBgn0000008 &     92 &    161 &    76 &    70 &    140 &    88 &    70\\\\\n\tFBgn0000014 &      5 &      1 &     0 &     0 &      4 &     0 &     0\\\\\n\tFBgn0000015 &      0 &      2 &     1 &     2 &      1 &     0 &     0\\\\\n\tFBgn0000017 &   4664 &   8714 &  3564 &  3150 &   6205 &  3072 &  3334\\\\\n\tFBgn0000018 &    583 &    761 &   245 &   310 &    722 &   299 &   308\\\\\n\tFBgn0000022 &      0 &      1 &     0 &     0 &      0 &     0 &     0\\\\\n\tFBgn0000024 &     10 &     11 &     3 &     3 &     10 &     7 &     5\\\\\n\tFBgn0000028 &      0 &      1 &     0 &     0 &      0 &     1 &     1\\\\\n\tFBgn0000032 &   1446 &   1713 &   615 &   672 &   1698 &   696 &   757\\\\\n\tFBgn0000036 &      2 &      1 &     0 &     0 &      1 &     0 &     1\\\\\n\tFBgn0000037 &     15 &     25 &     9 &     5 &     20 &    14 &    17\\\\\n\tFBgn0000038 &      0 &      0 &     0 &     0 &      0 &     0 &     0\\\\\n\tFBgn0000039 &      0 &      1 &     0 &     0 &      0 &     1 &     1\\\\\n\tFBgn0000042 & 101664 & 120163 & 45880 & 53201 & 127363 & 76099 & 83164\\\\\n\tFBgn0000043 &  33402 &  41118 & 16007 & 18360 &  56048 & 31421 & 34344\\\\\n\tFBgn0000044 &     21 &     63 &    15 &    13 &     64 &    28 &    16\\\\\n\tFBgn0000045 &      9 &     15 &     1 &     5 &     14 &     4 &     6\\\\\n\tFBgn0000046 &     12 &     50 &    13 &    14 &     53 &    31 &    13\\\\\n\tFBgn0000047 &      7 &     21 &     4 &     4 &     31 &     9 &     4\\\\\n\tFBgn0000052 &   3026 &   3587 &  1624 &  1944 &   3169 &  1843 &  1912\\\\\n\tFBgn0000053 &   2253 &   2882 &  1281 &  1575 &   3265 &  1954 &  2069\\\\\n\tFBgn0000054 &    860 &   1111 &   445 &   488 &    988 &   475 &   535\\\\\n\tFBgn0000055 &      0 &      0 &     0 &     0 &      1 &     0 &     0\\\\\n\tFBgn0000056 &      0 &      0 &     0 &     0 &      0 &     0 &     0\\\\\n\tFBgn0000057 &    805 &   1144 &   445 &   539 &    977 &   553 &   589\\\\\n\tFBgn0000061 &      0 &      1 &     1 &     3 &      4 &     1 &     1\\\\\n\tFBgn0000063 &    468 &    732 &   220 &   269 &    735 &   339 &   352\\\\\n\tFBgn0000064 &   7764 &  12370 &  5009 &  5553 &  13068 &  6941 &  7905\\\\\n\tFBgn0000071 &     82 &    192 &    74 &    92 &    972 &   512 &   594\\\\\n\t⋮ & ⋮ & ⋮ & ⋮ & ⋮ & ⋮ & ⋮ & ⋮\\\\\n\tFBgn0261537 &     0 &     0 &    0 &    0 &     0 &    0 &    0\\\\\n\tFBgn0261538 &     0 &     0 &    0 &    0 &     0 &    0 &    0\\\\\n\tFBgn0261545 &  1862 &  3577 & 1433 & 1386 &  2424 &  940 & 1004\\\\\n\tFBgn0261546 &    28 &    74 &   29 &   39 &    17 &   11 &    8\\\\\n\tFBgn0261547 &   785 &  1377 &  572 &  505 &   788 &  406 &  424\\\\\n\tFBgn0261548 &  1636 &  3085 & 1187 & 1118 &  2973 & 1387 & 1564\\\\\n\tFBgn0261549 &   438 &  1033 &  429 &  420 &   919 &  437 &  537\\\\\n\tFBgn0261550 & 12053 & 16368 & 7813 & 7801 & 11908 & 6875 & 7372\\\\\n\tFBgn0261551 &  4264 &  9312 & 3923 & 3818 &  7407 & 4471 & 4649\\\\\n\tFBgn0261552 &  7022 & 16750 & 5224 & 4760 &  4233 & 1335 & 1394\\\\\n\tFBgn0261553 &  1360 &  2712 & 1085 & 1097 &  1823 &  931 & 1015\\\\\n\tFBgn0261554 &  1506 &  1859 &  826 &  778 &  1680 &  890 &  896\\\\\n\tFBgn0261555 &    68 &   110 &   29 &   34 &   124 &   68 &   75\\\\\n\tFBgn0261556 &  3053 &  4363 & 2064 & 1889 &  4203 & 2641 & 2968\\\\\n\tFBgn0261560 &  2373 &  4455 & 1278 & 1657 &  1866 &  872 & 1052\\\\\n\tFBgn0261561 &    61 &   123 &   37 &   52 &   162 &   71 &   77\\\\\n\tFBgn0261562 &   445 &   708 &  273 &  317 &   528 &  295 &  355\\\\\n\tFBgn0261563 &  1207 &  2497 & 1197 & 1114 &  3733 & 1909 & 1839\\\\\n\tFBgn0261564 &  1258 &  2042 &  821 &  938 &  1754 &  818 & 1004\\\\\n\tFBgn0261565 &   872 &  1029 &  475 &  469 &   914 &  440 &  421\\\\\n\tFBgn0261566 &     0 &     0 &    0 &    0 &     0 &    0 &    0\\\\\n\tFBgn0261567 &     0 &     0 &    0 &    0 &     0 &    0 &    0\\\\\n\tFBgn0261568 &     0 &     0 &    0 &    0 &     0 &    0 &    1\\\\\n\tFBgn0261569 &     0 &     1 &    0 &    0 &     2 &    0 &    0\\\\\n\tFBgn0261570 &  3296 &  4910 & 2156 & 2060 &  5077 & 3069 & 3022\\\\\n\tFBgn0261571 &     0 &     0 &    0 &    0 &     1 &    0 &    0\\\\\n\tFBgn0261572 &     4 &    13 &    4 &   11 &     7 &    3 &    3\\\\\n\tFBgn0261573 &  2651 &  3653 & 1571 & 1612 &  3334 & 1848 & 1908\\\\\n\tFBgn0261574 &  6385 &  9318 & 3110 & 2819 & 10455 & 3508 & 3047\\\\\n\tFBgn0261575 &     6 &    53 &    1 &    3 &    42 &    3 &    4\\\\\n\\end{tabular}\n",
            "text/plain": [
              "            untreated1 untreated2 untreated3 untreated4 treated1 treated2\n",
              "FBgn0000003      0          0         0          0           0       0   \n",
              "FBgn0000008     92        161        76         70         140      88   \n",
              "FBgn0000014      5          1         0          0           4       0   \n",
              "FBgn0000015      0          2         1          2           1       0   \n",
              "FBgn0000017   4664       8714      3564       3150        6205    3072   \n",
              "FBgn0000018    583        761       245        310         722     299   \n",
              "FBgn0000022      0          1         0          0           0       0   \n",
              "FBgn0000024     10         11         3          3          10       7   \n",
              "FBgn0000028      0          1         0          0           0       1   \n",
              "FBgn0000032   1446       1713       615        672        1698     696   \n",
              "FBgn0000036      2          1         0          0           1       0   \n",
              "FBgn0000037     15         25         9          5          20      14   \n",
              "FBgn0000038      0          0         0          0           0       0   \n",
              "FBgn0000039      0          1         0          0           0       1   \n",
              "FBgn0000042 101664     120163     45880      53201      127363   76099   \n",
              "FBgn0000043  33402      41118     16007      18360       56048   31421   \n",
              "FBgn0000044     21         63        15         13          64      28   \n",
              "FBgn0000045      9         15         1          5          14       4   \n",
              "FBgn0000046     12         50        13         14          53      31   \n",
              "FBgn0000047      7         21         4          4          31       9   \n",
              "FBgn0000052   3026       3587      1624       1944        3169    1843   \n",
              "FBgn0000053   2253       2882      1281       1575        3265    1954   \n",
              "FBgn0000054    860       1111       445        488         988     475   \n",
              "FBgn0000055      0          0         0          0           1       0   \n",
              "FBgn0000056      0          0         0          0           0       0   \n",
              "FBgn0000057    805       1144       445        539         977     553   \n",
              "FBgn0000061      0          1         1          3           4       1   \n",
              "FBgn0000063    468        732       220        269         735     339   \n",
              "FBgn0000064   7764      12370      5009       5553       13068    6941   \n",
              "FBgn0000071     82        192        74         92         972     512   \n",
              "⋮           ⋮          ⋮          ⋮          ⋮          ⋮        ⋮       \n",
              "FBgn0261537     0          0         0          0           0       0    \n",
              "FBgn0261538     0          0         0          0           0       0    \n",
              "FBgn0261545  1862       3577      1433       1386        2424     940    \n",
              "FBgn0261546    28         74        29         39          17      11    \n",
              "FBgn0261547   785       1377       572        505         788     406    \n",
              "FBgn0261548  1636       3085      1187       1118        2973    1387    \n",
              "FBgn0261549   438       1033       429        420         919     437    \n",
              "FBgn0261550 12053      16368      7813       7801       11908    6875    \n",
              "FBgn0261551  4264       9312      3923       3818        7407    4471    \n",
              "FBgn0261552  7022      16750      5224       4760        4233    1335    \n",
              "FBgn0261553  1360       2712      1085       1097        1823     931    \n",
              "FBgn0261554  1506       1859       826        778        1680     890    \n",
              "FBgn0261555    68        110        29         34         124      68    \n",
              "FBgn0261556  3053       4363      2064       1889        4203    2641    \n",
              "FBgn0261560  2373       4455      1278       1657        1866     872    \n",
              "FBgn0261561    61        123        37         52         162      71    \n",
              "FBgn0261562   445        708       273        317         528     295    \n",
              "FBgn0261563  1207       2497      1197       1114        3733    1909    \n",
              "FBgn0261564  1258       2042       821        938        1754     818    \n",
              "FBgn0261565   872       1029       475        469         914     440    \n",
              "FBgn0261566     0          0         0          0           0       0    \n",
              "FBgn0261567     0          0         0          0           0       0    \n",
              "FBgn0261568     0          0         0          0           0       0    \n",
              "FBgn0261569     0          1         0          0           2       0    \n",
              "FBgn0261570  3296       4910      2156       2060        5077    3069    \n",
              "FBgn0261571     0          0         0          0           1       0    \n",
              "FBgn0261572     4         13         4         11           7       3    \n",
              "FBgn0261573  2651       3653      1571       1612        3334    1848    \n",
              "FBgn0261574  6385       9318      3110       2819       10455    3508    \n",
              "FBgn0261575     6         53         1          3          42       3    \n",
              "            treated3\n",
              "FBgn0000003     1   \n",
              "FBgn0000008    70   \n",
              "FBgn0000014     0   \n",
              "FBgn0000015     0   \n",
              "FBgn0000017  3334   \n",
              "FBgn0000018   308   \n",
              "FBgn0000022     0   \n",
              "FBgn0000024     5   \n",
              "FBgn0000028     1   \n",
              "FBgn0000032   757   \n",
              "FBgn0000036     1   \n",
              "FBgn0000037    17   \n",
              "FBgn0000038     0   \n",
              "FBgn0000039     1   \n",
              "FBgn0000042 83164   \n",
              "FBgn0000043 34344   \n",
              "FBgn0000044    16   \n",
              "FBgn0000045     6   \n",
              "FBgn0000046    13   \n",
              "FBgn0000047     4   \n",
              "FBgn0000052  1912   \n",
              "FBgn0000053  2069   \n",
              "FBgn0000054   535   \n",
              "FBgn0000055     0   \n",
              "FBgn0000056     0   \n",
              "FBgn0000057   589   \n",
              "FBgn0000061     1   \n",
              "FBgn0000063   352   \n",
              "FBgn0000064  7905   \n",
              "FBgn0000071   594   \n",
              "⋮           ⋮       \n",
              "FBgn0261537    0    \n",
              "FBgn0261538    0    \n",
              "FBgn0261545 1004    \n",
              "FBgn0261546    8    \n",
              "FBgn0261547  424    \n",
              "FBgn0261548 1564    \n",
              "FBgn0261549  537    \n",
              "FBgn0261550 7372    \n",
              "FBgn0261551 4649    \n",
              "FBgn0261552 1394    \n",
              "FBgn0261553 1015    \n",
              "FBgn0261554  896    \n",
              "FBgn0261555   75    \n",
              "FBgn0261556 2968    \n",
              "FBgn0261560 1052    \n",
              "FBgn0261561   77    \n",
              "FBgn0261562  355    \n",
              "FBgn0261563 1839    \n",
              "FBgn0261564 1004    \n",
              "FBgn0261565  421    \n",
              "FBgn0261566    0    \n",
              "FBgn0261567    0    \n",
              "FBgn0261568    1    \n",
              "FBgn0261569    0    \n",
              "FBgn0261570 3022    \n",
              "FBgn0261571    0    \n",
              "FBgn0261572    3    \n",
              "FBgn0261573 1908    \n",
              "FBgn0261574 3047    \n",
              "FBgn0261575    4    "
            ]
          },
          "metadata": {}
        }
      ]
    },
    {
      "cell_type": "code",
      "source": [
        "#metadata\n",
        "coldata"
      ],
      "metadata": {
        "colab": {
          "base_uri": "https://localhost:8080/",
          "height": 318
        },
        "id": "BsYszq4v01st",
        "outputId": "c37d08e5-3515-4d5f-dc86-d4c1e7eedbd9"
      },
      "execution_count": null,
      "outputs": [
        {
          "output_type": "display_data",
          "data": {
            "text/html": [
              "<table class=\"dataframe\">\n",
              "<caption>A data.frame: 7 × 2</caption>\n",
              "<thead>\n",
              "\t<tr><th></th><th scope=col>condition</th><th scope=col>type</th></tr>\n",
              "\t<tr><th></th><th scope=col>&lt;fct&gt;</th><th scope=col>&lt;fct&gt;</th></tr>\n",
              "</thead>\n",
              "<tbody>\n",
              "\t<tr><th scope=row>treated1fb</th><td>treated  </td><td>single-read</td></tr>\n",
              "\t<tr><th scope=row>treated2fb</th><td>treated  </td><td>paired-end </td></tr>\n",
              "\t<tr><th scope=row>treated3fb</th><td>treated  </td><td>paired-end </td></tr>\n",
              "\t<tr><th scope=row>untreated1fb</th><td>untreated</td><td>single-read</td></tr>\n",
              "\t<tr><th scope=row>untreated2fb</th><td>untreated</td><td>single-read</td></tr>\n",
              "\t<tr><th scope=row>untreated3fb</th><td>untreated</td><td>paired-end </td></tr>\n",
              "\t<tr><th scope=row>untreated4fb</th><td>untreated</td><td>paired-end </td></tr>\n",
              "</tbody>\n",
              "</table>\n"
            ],
            "text/markdown": "\nA data.frame: 7 × 2\n\n| <!--/--> | condition &lt;fct&gt; | type &lt;fct&gt; |\n|---|---|---|\n| treated1fb | treated   | single-read |\n| treated2fb | treated   | paired-end  |\n| treated3fb | treated   | paired-end  |\n| untreated1fb | untreated | single-read |\n| untreated2fb | untreated | single-read |\n| untreated3fb | untreated | paired-end  |\n| untreated4fb | untreated | paired-end  |\n\n",
            "text/latex": "A data.frame: 7 × 2\n\\begin{tabular}{r|ll}\n  & condition & type\\\\\n  & <fct> & <fct>\\\\\n\\hline\n\ttreated1fb & treated   & single-read\\\\\n\ttreated2fb & treated   & paired-end \\\\\n\ttreated3fb & treated   & paired-end \\\\\n\tuntreated1fb & untreated & single-read\\\\\n\tuntreated2fb & untreated & single-read\\\\\n\tuntreated3fb & untreated & paired-end \\\\\n\tuntreated4fb & untreated & paired-end \\\\\n\\end{tabular}\n",
            "text/plain": [
              "             condition type       \n",
              "treated1fb   treated   single-read\n",
              "treated2fb   treated   paired-end \n",
              "treated3fb   treated   paired-end \n",
              "untreated1fb untreated single-read\n",
              "untreated2fb untreated single-read\n",
              "untreated3fb untreated paired-end \n",
              "untreated4fb untreated paired-end "
            ]
          },
          "metadata": {}
        }
      ]
    },
    {
      "cell_type": "code",
      "source": [
        "rownames(coldata)"
      ],
      "metadata": {
        "colab": {
          "base_uri": "https://localhost:8080/",
          "height": 34
        },
        "id": "61Jw2u0L1A8a",
        "outputId": "404ef572-b8cb-4865-9645-84c100b827b1"
      },
      "execution_count": null,
      "outputs": [
        {
          "output_type": "display_data",
          "data": {
            "text/html": [
              "<style>\n",
              ".list-inline {list-style: none; margin:0; padding: 0}\n",
              ".list-inline>li {display: inline-block}\n",
              ".list-inline>li:not(:last-child)::after {content: \"\\00b7\"; padding: 0 .5ex}\n",
              "</style>\n",
              "<ol class=list-inline><li>'treated1fb'</li><li>'treated2fb'</li><li>'treated3fb'</li><li>'untreated1fb'</li><li>'untreated2fb'</li><li>'untreated3fb'</li><li>'untreated4fb'</li></ol>\n"
            ],
            "text/markdown": "1. 'treated1fb'\n2. 'treated2fb'\n3. 'treated3fb'\n4. 'untreated1fb'\n5. 'untreated2fb'\n6. 'untreated3fb'\n7. 'untreated4fb'\n\n\n",
            "text/latex": "\\begin{enumerate*}\n\\item 'treated1fb'\n\\item 'treated2fb'\n\\item 'treated3fb'\n\\item 'untreated1fb'\n\\item 'untreated2fb'\n\\item 'untreated3fb'\n\\item 'untreated4fb'\n\\end{enumerate*}\n",
            "text/plain": [
              "[1] \"treated1fb\"   \"treated2fb\"   \"treated3fb\"   \"untreated1fb\" \"untreated2fb\"\n",
              "[6] \"untreated3fb\" \"untreated4fb\""
            ]
          },
          "metadata": {}
        }
      ]
    },
    {
      "cell_type": "code",
      "source": [
        "colnames(cts)"
      ],
      "metadata": {
        "colab": {
          "base_uri": "https://localhost:8080/",
          "height": 34
        },
        "id": "aIEYL1tM1A-t",
        "outputId": "b70ceaae-514f-41b1-dd47-c1b0ef2660fc"
      },
      "execution_count": null,
      "outputs": [
        {
          "output_type": "display_data",
          "data": {
            "text/html": [
              "<style>\n",
              ".list-inline {list-style: none; margin:0; padding: 0}\n",
              ".list-inline>li {display: inline-block}\n",
              ".list-inline>li:not(:last-child)::after {content: \"\\00b7\"; padding: 0 .5ex}\n",
              "</style>\n",
              "<ol class=list-inline><li>'untreated1'</li><li>'untreated2'</li><li>'untreated3'</li><li>'untreated4'</li><li>'treated1'</li><li>'treated2'</li><li>'treated3'</li></ol>\n"
            ],
            "text/markdown": "1. 'untreated1'\n2. 'untreated2'\n3. 'untreated3'\n4. 'untreated4'\n5. 'treated1'\n6. 'treated2'\n7. 'treated3'\n\n\n",
            "text/latex": "\\begin{enumerate*}\n\\item 'untreated1'\n\\item 'untreated2'\n\\item 'untreated3'\n\\item 'untreated4'\n\\item 'treated1'\n\\item 'treated2'\n\\item 'treated3'\n\\end{enumerate*}\n",
            "text/plain": [
              "[1] \"untreated1\" \"untreated2\" \"untreated3\" \"untreated4\" \"treated1\"  \n",
              "[6] \"treated2\"   \"treated3\"  "
            ]
          },
          "metadata": {}
        }
      ]
    },
    {
      "cell_type": "code",
      "source": [
        "# first check if the row names in coldata are the same as the column names of cts data\n",
        "# Should return the result false\n",
        "all(rownames(coldata) %in% colnames(cts))"
      ],
      "metadata": {
        "colab": {
          "base_uri": "https://localhost:8080/",
          "height": 34
        },
        "id": "HQwIJkEd1BA-",
        "outputId": "6f7468b6-966d-4a80-a901-e1ce0b73f9b7"
      },
      "execution_count": null,
      "outputs": [
        {
          "output_type": "display_data",
          "data": {
            "text/html": [
              "FALSE"
            ],
            "text/markdown": "FALSE",
            "text/latex": "FALSE",
            "text/plain": [
              "[1] FALSE"
            ]
          },
          "metadata": {}
        }
      ]
    },
    {
      "cell_type": "code",
      "source": [
        "#We need to chop off the \"fb\" of the row names of coldata, so the naming is consistent.\n",
        "rownames(coldata) <- sub(\"fb\", \"\", rownames(coldata))\n",
        "#check again\n",
        "all(rownames(coldata) %in% colnames(cts))"
      ],
      "metadata": {
        "colab": {
          "base_uri": "https://localhost:8080/",
          "height": 34
        },
        "id": "TzPmeE1m1BDh",
        "outputId": "460cd0ae-b625-4717-c7c3-cb130c8a525e"
      },
      "execution_count": null,
      "outputs": [
        {
          "output_type": "display_data",
          "data": {
            "text/html": [
              "TRUE"
            ],
            "text/markdown": "TRUE",
            "text/latex": "TRUE",
            "text/plain": [
              "[1] TRUE"
            ]
          },
          "metadata": {}
        }
      ]
    },
    {
      "cell_type": "code",
      "source": [
        "#As the names of columns are not in the correct order as given, we need to re-arrange one or the other so that they are consistent in terms of sample order (if we do not, later functions would produce an error).\n",
        "\n",
        "# check if order is the same\n",
        "all(rownames(coldata) == colnames(cts))\n"
      ],
      "metadata": {
        "colab": {
          "base_uri": "https://localhost:8080/",
          "height": 34
        },
        "id": "HdT3w_7d1SZ3",
        "outputId": "a725ebc8-a21b-4900-c8e4-45b87ffb096c"
      },
      "execution_count": null,
      "outputs": [
        {
          "output_type": "display_data",
          "data": {
            "text/html": [
              "FALSE"
            ],
            "text/markdown": "FALSE",
            "text/latex": "FALSE",
            "text/plain": [
              "[1] FALSE"
            ]
          },
          "metadata": {}
        }
      ]
    },
    {
      "cell_type": "code",
      "source": [
        "\n",
        "# reorder cts's columns based on row order of metadata (coldata)\n",
        "cts <- cts[, rownames(coldata)]\n",
        "all(rownames(coldata) == colnames(cts))"
      ],
      "metadata": {
        "colab": {
          "base_uri": "https://localhost:8080/",
          "height": 34
        },
        "id": "uNI-jSBk1Viq",
        "outputId": "10e6f2ee-0fac-4488-b9be-1489ec8977c3"
      },
      "execution_count": null,
      "outputs": [
        {
          "output_type": "display_data",
          "data": {
            "text/html": [
              "TRUE"
            ],
            "text/markdown": "TRUE",
            "text/latex": "TRUE",
            "text/plain": [
              "[1] TRUE"
            ]
          },
          "metadata": {}
        }
      ]
    },
    {
      "cell_type": "code",
      "source": [
        "dds <- DESeqDataSetFromMatrix(countData = cts,\n",
        "                              colData = coldata,\n",
        "                              design = ~ condition)\n",
        "dds"
      ],
      "metadata": {
        "colab": {
          "base_uri": "https://localhost:8080/",
          "height": 160
        },
        "id": "6bIiH9a71aKK",
        "outputId": "b28681db-33b1-41bc-c1d8-8cfc0d03ca73"
      },
      "execution_count": null,
      "outputs": [
        {
          "output_type": "display_data",
          "data": {
            "text/plain": [
              "class: DESeqDataSet \n",
              "dim: 14599 7 \n",
              "metadata(1): version\n",
              "assays(1): counts\n",
              "rownames(14599): FBgn0000003 FBgn0000008 ... FBgn0261574 FBgn0261575\n",
              "rowData names(0):\n",
              "colnames(7): treated1 treated2 ... untreated3 untreated4\n",
              "colData names(2): condition type"
            ]
          },
          "metadata": {}
        }
      ]
    },
    {
      "cell_type": "code",
      "source": [
        "featureData <- data.frame(gene=rownames(cts))\n",
        "mcols(dds) <- DataFrame(mcols(dds), featureData)\n",
        "mcols(dds)"
      ],
      "metadata": {
        "colab": {
          "base_uri": "https://localhost:8080/",
          "height": 267
        },
        "id": "XVpAkDRC1gLP",
        "outputId": "cc414522-ca2a-42a8-d44f-ed6b30e7e501"
      },
      "execution_count": null,
      "outputs": [
        {
          "output_type": "display_data",
          "data": {
            "text/plain": [
              "DataFrame with 14599 rows and 1 column\n",
              "                   gene\n",
              "            <character>\n",
              "FBgn0000003 FBgn0000003\n",
              "FBgn0000008 FBgn0000008\n",
              "FBgn0000014 FBgn0000014\n",
              "FBgn0000015 FBgn0000015\n",
              "FBgn0000017 FBgn0000017\n",
              "...                 ...\n",
              "FBgn0261571 FBgn0261571\n",
              "FBgn0261572 FBgn0261572\n",
              "FBgn0261573 FBgn0261573\n",
              "FBgn0261574 FBgn0261574\n",
              "FBgn0261575 FBgn0261575"
            ]
          },
          "metadata": {}
        }
      ]
    },
    {
      "cell_type": "code",
      "source": [
        "keep <- rowSums(counts(dds)) >= 10\n",
        "dds <- dds[keep,]"
      ],
      "metadata": {
        "id": "CXn3Cl0T1gNX"
      },
      "execution_count": null,
      "outputs": []
    },
    {
      "cell_type": "code",
      "source": [
        "dds$condition <- factor(dds$condition, levels = c(\"untreated\",\"treated\"))\n",
        "dds$condition <- relevel(dds$condition, ref = \"untreated\")\n"
      ],
      "metadata": {
        "id": "brsqmacG1gPi"
      },
      "execution_count": null,
      "outputs": []
    },
    {
      "cell_type": "markdown",
      "source": [
        "##About the pasilla dataset\n",
        "We continue with the pasilla data constructed from the count matrix method above. This data set is from an experiment on Drosophila melanogaster cell cultures and investigated the effect of RNAi knock-down of the splicing factor pasilla (Brooks et al. 2011). The detailed transcript of the production of the pasilla data is provided in the vignette of the data package pasilla\n",
        "\n",
        "##Differential expression analysis\n",
        "The standard differential expression analysis steps are wrapped into a single function, DESeq. The estimation steps performed by this function are described below, in the manual page for ?DESeq and in the Methods section of the DESeq2 publication (Love, Huber, and Anders 2014).\n",
        "\n",
        "Results tables are generated using the function results, which extracts a results table with log2 fold changes, p values and adjusted p values. With no additional arguments to results, the log2 fold change and Wald test p value will be for the last variable in the design formula, and if this is a factor, the comparison will be the last level of this variable over the reference level (see previous note on factor levels). However, the order of the variables of the design do not matter so long as the user specifies the comparison to build a results table for, using the name or contrast arguments of results.\n",
        "\n",
        "Details about the comparison are printed to the console, directly above the results table. The text, condition treated vs untreated, tells you that the estimates are of the logarithmic fold change log2(treated/untreated).\n",
        "\n",
        "In its simplest view, differential expression analysis test for differences between 2 or more groups when we have one or more factors that could contribute to the observed differences. However, in transcriptomic data, we often have a much lower number of replicates, data are not normally distributed, and we are testing differences in many genes at the same time. Methods and tools for analysing differential gene expression; therefore, have some specific terminology and concepts as we shall see next!\n",
        "\n",
        "##Genes differentially expressed between conditions\n",
        "Using the DESeq dds object we created earlier, we can look at the differentially expressed genes using results() function. By default, DESeq2 perform pair-wise comparison of the first and the last variable in the experimental design variables and provide a result table."
      ],
      "metadata": {
        "id": "yYcULYUK1qCq"
      }
    },
    {
      "cell_type": "code",
      "source": [
        "## probably the most important command :)\n",
        "dds <- DESeq(dds)\n",
        "\n",
        "res <- results(dds)\n",
        "res"
      ],
      "metadata": {
        "colab": {
          "base_uri": "https://localhost:8080/",
          "height": 517
        },
        "id": "DZWnFam_1gVm",
        "outputId": "49c81f48-11cf-4d06-ec95-fcadc050d361"
      },
      "execution_count": null,
      "outputs": [
        {
          "output_type": "stream",
          "name": "stderr",
          "text": [
            "estimating size factors\n",
            "\n",
            "estimating dispersions\n",
            "\n",
            "gene-wise dispersion estimates\n",
            "\n",
            "mean-dispersion relationship\n",
            "\n",
            "final dispersion estimates\n",
            "\n",
            "fitting model and testing\n",
            "\n"
          ]
        },
        {
          "output_type": "display_data",
          "data": {
            "text/plain": [
              "log2 fold change (MLE): condition treated vs untreated \n",
              "Wald test p-value: condition treated vs untreated \n",
              "DataFrame with 9921 rows and 6 columns\n",
              "              baseMean log2FoldChange     lfcSE       stat    pvalue      padj\n",
              "             <numeric>      <numeric> <numeric>  <numeric> <numeric> <numeric>\n",
              "FBgn0000008   95.14429     0.00227644  0.223729   0.010175 0.9918817  0.997211\n",
              "FBgn0000014    1.05652    -0.49512039  2.143186  -0.231021 0.8172987        NA\n",
              "FBgn0000017 4352.55357    -0.23991894  0.126337  -1.899041 0.0575591  0.288002\n",
              "FBgn0000018  418.61048    -0.10467391  0.148489  -0.704927 0.4808558  0.826834\n",
              "FBgn0000024    6.40620     0.21084779  0.689588   0.305759 0.7597879  0.943501\n",
              "...                ...            ...       ...        ...       ...       ...\n",
              "FBgn0261570 3208.38861      0.2955329  0.127350  2.3206264  0.020307  0.144240\n",
              "FBgn0261572    6.19719     -0.9588230  0.775315 -1.2366888  0.216203  0.607848\n",
              "FBgn0261573 2240.97951      0.0127194  0.113300  0.1122634  0.910615  0.982657\n",
              "FBgn0261574 4857.68037      0.0153924  0.192567  0.0799327  0.936291  0.988179\n",
              "FBgn0261575   10.68252      0.1635705  0.930911  0.1757102  0.860522  0.967928"
            ]
          },
          "metadata": {}
        }
      ]
    },
    {
      "cell_type": "code",
      "source": [
        "res = res[order(res$pvalue, decreasing = F),]\n",
        "head(res) #let's look at the results table"
      ],
      "metadata": {
        "colab": {
          "base_uri": "https://localhost:8080/",
          "height": 356
        },
        "id": "1rV6ZkRI1gX5",
        "outputId": "d408c120-a248-4888-fa4e-3e6d758d1ed0"
      },
      "execution_count": null,
      "outputs": [
        {
          "output_type": "display_data",
          "data": {
            "text/plain": [
              "log2 fold change (MLE): condition treated vs untreated \n",
              "Wald test p-value: condition treated vs untreated \n",
              "DataFrame with 6 rows and 6 columns\n",
              "             baseMean log2FoldChange     lfcSE      stat       pvalue\n",
              "            <numeric>      <numeric> <numeric> <numeric>    <numeric>\n",
              "FBgn0039155   730.568       -4.61874 0.1691240  -27.3098 3.24446e-164\n",
              "FBgn0025111  1501.448        2.89995 0.1273576   22.7701 9.07164e-115\n",
              "FBgn0029167  3706.024       -2.19691 0.0979154  -22.4368 1.72030e-111\n",
              "FBgn0003360  4342.832       -3.17954 0.1435677  -22.1466 1.12417e-108\n",
              "FBgn0035085   638.219       -2.56024 0.1378126  -18.5777  4.86844e-77\n",
              "FBgn0039827   261.911       -4.16243 0.2325942  -17.8957  1.27484e-71\n",
              "                    padj\n",
              "               <numeric>\n",
              "FBgn0039155 2.71918e-160\n",
              "FBgn0025111 3.80147e-111\n",
              "FBgn0029167 4.80594e-108\n",
              "FBgn0003360 2.35542e-105\n",
              "FBgn0035085  8.16049e-74\n",
              "FBgn0039827  1.78075e-68"
            ]
          },
          "metadata": {}
        }
      ]
    },
    {
      "cell_type": "markdown",
      "source": [
        "##Plot some of the top genes"
      ],
      "metadata": {
        "id": "MvX27XEJ843R"
      }
    },
    {
      "cell_type": "code",
      "source": [
        "if (!require(\"BiocManager\", quietly = TRUE))\n",
        "    install.packages(\"BiocManager\")\n",
        "\n",
        "BiocManager::install(\"DEGreport\")"
      ],
      "metadata": {
        "colab": {
          "base_uri": "https://localhost:8080/"
        },
        "id": "fF9VmjES8tYV",
        "outputId": "ee06320a-5977-45a7-9b79-129767a196bd"
      },
      "execution_count": null,
      "outputs": [
        {
          "output_type": "stream",
          "name": "stderr",
          "text": [
            "'getOption(\"repos\")' replaces Bioconductor standard repositories, see\n",
            "'help(\"repositories\", package = \"BiocManager\")' for details.\n",
            "Replacement repositories:\n",
            "    CRAN: https://cran.rstudio.com\n",
            "\n",
            "Bioconductor version 3.19 (BiocManager 1.30.23), R 4.4.1 (2024-06-14)\n",
            "\n",
            "Warning message:\n",
            "“package(s) not installed when version(s) same as or greater than current; use\n",
            "  `force = TRUE` to re-install: 'DEGreport'”\n",
            "Old packages: 'nlme'\n",
            "\n"
          ]
        }
      ]
    },
    {
      "cell_type": "code",
      "source": [
        "DEGreport::degPlot(dds = dds, res = res, n = 6, xs = \"condition\")"
      ],
      "metadata": {
        "colab": {
          "base_uri": "https://localhost:8080/",
          "height": 526
        },
        "id": "DIm_XsIJ1gaG",
        "outputId": "c9b236d7-03be-4684-812a-4810d7dee03e"
      },
      "execution_count": null,
      "outputs": [
        {
          "output_type": "stream",
          "name": "stderr",
          "text": [
            "No genes were mapped to rowData. check ann parameter values.\n",
            "\n",
            "Using gene as id variables\n",
            "\n",
            "\u001b[1m\u001b[22m`geom_smooth()` using formula = 'y ~ x'\n"
          ]
        },
        {
          "output_type": "display_data",
          "data": {
            "text/plain": [
              "plot without title"
            ],
            "image/png": "[encoded data removed]"
          },
          "metadata": {
            "image/png": {
              "width": 420,
              "height": 420
            }
          }
        }
      ]
    },
    {
      "cell_type": "code",
      "source": [],
      "metadata": {
        "id": "56BjwVzh1gcO"
      },
      "execution_count": null,
      "outputs": []
    }
  ]
}