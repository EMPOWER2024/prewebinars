{
 "cells": [
  {
   "cell_type": "markdown",
   "source": [
    "# Introduction to Medical Imaging Data Analysis\n",
    "\n",
    "Welcome to this introductory notebook on medical imaging data analysis. This resource is designed to provide a comprehensive starting point for newcomers to the field, offering insights into various aspects of medical imaging and practical examples to help you get started. This notebook covers:\n",
    "\n",
    "### Table of Contents:\n",
    "1. **Types of Medical Imaging Data**\n",
    "2. **Medical Imaging Data Formats**\n",
    "3. **Typical Dataset Sizes**\n",
    "4. **Visualizing Medical Imaging Data**\n",
    "5. **Reading Medical Imaging Data**\n",
    "6. **Preprocessing Medical Imaging Data**\n",
    "7. **Feature Extraction**\n",
    "8. **Simple Analysis Pipeline**\n",
    "9. **Resources for Further Learning**\n",
    "10. **References**\n",
    "11. **Acknowledgements**\n",
    "12. **Homework**\n",
    "\n",
    "Each section builds on the previous ones, introducing progressively complex concepts and techniques. By the end, you will have a solid foundation in medical imaging data analysis and be well-prepared for more advanced topics.\n"
   ],
   "metadata": {
    "collapsed": false
   }
  },
  {
   "cell_type": "markdown",
   "source": [
    "## 1. Types of Medical Imaging Data\n",
    "\n",
    "Medical imaging is essential for diagnosing and treating various medical conditions. Different imaging modalities provide unique insights into the body's structure and function. Here are the most common types:\n",
    "\n",
    "### X-ray\n",
    "- **Principle**: Electromagnetic radiation to create images, especially of bones.\n",
    "- **Uses**: Detecting fractures, dental imaging, chest exams.\n",
    "- **Limitations**: Limited soft tissue detail, radiation exposure.\n",
    "\n",
    "### Computed Tomography (CT)\n",
    "- **Principle**: Combines multiple X-ray images taken from different angles to create cross-sectional views.\n",
    "- **Uses**: Identifying tumors, guiding biopsies, assessing injuries.\n",
    "- **Limitations**: Radiation exposure, high cost, less soft tissue detail than MRI.\n",
    "\n",
    "### Magnetic Resonance Imaging (MRI)\n",
    "- **Principle**: Uses strong magnets and radio waves to generate detailed images of soft tissues.\n",
    "- **Uses**: Brain, spinal cord, muscle, and joint imaging.\n",
    "- **Limitations**: High cost, longer scan times, not suitable for patients with metal implants.\n",
    "\n",
    "### Ultrasound\n",
    "- **Principle**: Uses high-frequency sound waves to produce real-time images.\n",
    "- **Uses**: Monitoring pregnancy, examining organs, guiding procedures.\n",
    "- **Limitations**: Operator-dependent, limited penetration in dense tissues, cannot image air-filled or bony structures well.\n",
    "\n",
    "### Nuclear Medicine (including PET)\n",
    "- **Principle**: Uses radioactive tracers that emit gamma rays or positrons to visualize physiological processes.\n",
    "- **Uses**: Thyroid scans, bone scans, PET for cancer detection, heart disease, brain disorders.\n",
    "- **Limitations**: Radiation exposure, high cost, lower spatial resolution.\n",
    "\n",
    "### Mammography\n",
    "- **Principle**: Low-dose X-rays specifically for breast imaging.\n",
    "- **Uses**: Early detection of breast cancer.\n",
    "- **Limitations**: Discomfort, radiation exposure, potential for false positives/negatives.\n"
   ],
   "metadata": {
    "collapsed": false
   }
  },
  {
   "cell_type": "markdown",
   "source": [
    "## 2. Medical Imaging Data Formats\n",
    "\n",
    "Medical imaging data comes in various formats, each designed to store different types of images and associated metadata. Understanding these formats is crucial for handling and processing medical imaging data effectively.\n",
    "\n",
    "### DICOM (Digital Imaging and Communications in Medicine)\n",
    "- **Description**: The standard format for storing and transmitting medical images and related information.\n",
    "- **Features**:\n",
    "  - Includes metadata such as patient information, imaging parameters, and study details.\n",
    "  - Supports a wide range of imaging modalities (e.g., X-ray, CT, MRI, Ultrasound).\n",
    "  - Facilitates interoperability between different medical imaging devices and systems.\n",
    "- **File Extension**: `.dcm`\n",
    "\n",
    "### NIfTI (Neuroimaging Informatics Technology Initiative)\n",
    "- **Description**: Commonly used format for storing brain imaging data, particularly in research.\n",
    "- **Features**:\n",
    "  - Stores multi-dimensional arrays of data (e.g., 3D MRI or CT scans).\n",
    "  - Includes metadata for image orientation and scaling.\n",
    "  - Widely used in neuroimaging studies and analysis tools.\n",
    "- **File Extensions**: `.nii`, `.nii.gz`\n",
    "\n",
    "### Analyze\n",
    "- **Description**: An older format for storing biomedical images, primarily used in brain imaging.\n",
    "- **Features**:\n",
    "  - Consists of two files: a header file (`.hdr`) and an image file (`.img`).\n",
    "  - Stores 3D image data and metadata.\n",
    "  - Largely replaced by NIfTI but still encountered in legacy data.\n",
    "- **File Extensions**: `.hdr`, `.img`\n",
    "\n",
    "### NRRD (Nearly Raw Raster Data)\n",
    "- **Description**: Flexible format for storing n-dimensional raster data, often used in medical imaging research.\n",
    "- **Features**:\n",
    "  - Simple, human-readable header file (`.nhdr`) and a binary data file.\n",
    "  - Supports various types of medical imaging data, including MRI and CT scans.\n",
    "  - Facilitates data exchange and processing in research environments.\n",
    "- **File Extensions**: `.nrrd`, `.nhdr`\n",
    "\n",
    "### MHA/MHD (MetaImage)\n",
    "- **Description**: Format for storing medical images and associated metadata, commonly used in research.\n",
    "- **Features**:\n",
    "  - Consists of a text header file (`.mhd`) and a binary image data file (`.raw`).\n",
    "  - Supports large datasets and various imaging modalities.\n",
    "  - Allows easy manipulation and processing of medical images.\n",
    "- **File Extensions**: `.mhd`, `.mha`, `.raw`\n",
    "\n",
    "### JPEG/PNG/TIFF\n",
    "- **Description**: Common image formats used for medical images, particularly for reports and documentation.\n",
    "- **Features**:\n",
    "  - Suitable for 2D images like X-rays or ultrasound snapshots.\n",
    "  - Limited metadata support compared to specialized formats.\n",
    "  - Widely compatible with general-purpose image viewers and editing tools.\n",
    "- **File Extensions**: `.jpg`, `.jpeg`, `.png`, `.tiff`\n",
    "\n"
   ],
   "metadata": {
    "collapsed": false
   }
  },
  {
   "cell_type": "markdown",
   "source": [
    "## 3. Typical Dataset Sizes\n",
    "\n",
    "Understanding the typical sizes of medical imaging datasets is crucial for planning storage, processing, and analysis. Medical imaging datasets can vary greatly depending on the modality, resolution, and the number of images acquired.\n",
    "\n",
    "### X-ray\n",
    "- **Typical Size**: 10 MB - 50 MB per image.\n",
    "- **Details**:\n",
    "  - Single 2D images.\n",
    "  - Smaller file sizes due to lower resolution compared to 3D imaging modalities.\n",
    "\n",
    "### Computed Tomography (CT)\n",
    "- **Typical Size**: 200 MB - 2 GB per scan.\n",
    "- **Details**:\n",
    "  - Comprises multiple cross-sectional images (slices).\n",
    "  - High resolution and 3D volumetric data contribute to larger file sizes.\n",
    "\n",
    "### Magnetic Resonance Imaging (MRI)\n",
    "- **Typical Size**: 100 MB - 500 MB per sequence.\n",
    "- **Details**:\n",
    "  - Consists of multiple sequences (e.g., T1, T2, FLAIR) with various parameters.\n",
    "  - Each sequence includes multiple slices or volumes.\n",
    "\n",
    "### Ultrasound\n",
    "- **Typical Size**: 5 MB - 30 MB per image or video clip.\n",
    "- **Details**:\n",
    "  - 2D images are relatively small.\n",
    "  - 3D/4D ultrasound and video clips increase the data size.\n",
    "\n",
    "### Nuclear Medicine (including PET)\n",
    "- **Typical Size**: 50 MB - 500 MB per scan.\n",
    "- **Details**:\n",
    "  - Includes multiple frames over time for dynamic studies.\n",
    "  - PET/CT or PET/MRI combinations further increase data size.\n",
    "\n",
    "### Mammography\n",
    "- **Typical Size**: 20 MB - 50 MB per image.\n",
    "- **Details**:\n",
    "  - High-resolution 2D images.\n",
    "  - Digital Breast Tomosynthesis (3D mammography) can generate larger datasets.\n",
    "\n"
   ],
   "metadata": {
    "collapsed": false
   }
  },
  {
   "cell_type": "markdown",
   "source": [
    "## 4. Visualizing Medical Imaging Data\n",
    "\n",
    "Visualizing medical imaging data is a crucial step in analysis and diagnosis. Effective visualization helps in understanding complex anatomical structures and identifying abnormalities.\n",
    "\n",
    "### Visualization Tools\n",
    "\n",
    "#### 3D Slicer\n",
    "- **Description**: 3D Slicer is an open-source software platform for medical image informatics, image processing, and three-dimensional visualization. It supports a variety of imaging modalities and provides a wide range of tools for analysis and visualization.\n",
    "- **Features**:\n",
    "  - 3D volume rendering\n",
    "  - Slice views (axial, sagittal, coronal)\n",
    "  - Interactive segmentation\n",
    "  - Registration and fusion of different imaging modalities\n",
    "- **Download**: You can download 3D Slicer from [slicer.org](https://www.slicer.org/).\n",
    "\n",
    "#### ITK-SNAP\n",
    "- **Description**: ITK-SNAP is a software application used to segment structures in 3D medical images. It is widely used for manual and semi-automatic segmentation and provides easy-to-use tools for navigating and annotating medical images.\n",
    "- **Features**:\n",
    "  - Manual and automatic segmentation tools\n",
    "  - Interactive 3D navigation\n",
    "  - Intuitive user interface\n",
    "  - Supports a variety of medical image formats\n",
    "- **Download**: You can download ITK-SNAP from [itksnap.org](http://www.itksnap.org/pmwiki/pmwiki.php).\n",
    "\n",
    "These tools are essential for visualizing and analyzing medical imaging data, providing powerful capabilities for both clinical and research applications.\n"
   ],
   "metadata": {
    "collapsed": false
   }
  },
  {
   "cell_type": "markdown",
   "source": [
    "## 5. How to Read Medical Imaging Data\n",
    "\n",
    "Reading medical imaging data involves accessing both the image and its associated metadata. Below are runnable examples for different formats using Python libraries. We will focus on DICOM and NIfTI formats, which are widely used in medical imaging.\n",
    "\n"
   ],
   "metadata": {
    "collapsed": false
   }
  },
  {
   "cell_type": "markdown",
   "source": [
    "### DICOM (Digital Imaging and Communications in Medicine)"
   ],
   "metadata": {
    "collapsed": false
   }
  },
  {
   "cell_type": "code",
   "execution_count": null,
   "outputs": [],
   "source": [
    "# Install the necessary libraries for handling and visualizing DICOM files\n",
    "!pip install pydicom matplotlib\n",
    "\n",
    "import pydicom # Library for working with DICOM files\n",
    "import matplotlib.pyplot as plt # Library for plotting graphs\n",
    "\n",
    "# Load a DICOM file\n",
    "file_path = 'path_to_dicom_file.dcm'\n",
    "dicom_data = pydicom.dcmread(file_path)\n",
    "\n",
    "# Accessing metadata\n",
    "print(f\"Patient's Name: {dicom_data.PatientName}\")\n",
    "print(f\"Study Date: {dicom_data.StudyDate}\")\n",
    "\n",
    "# Accessing pixel data\n",
    "image_array = dicom_data.pixel_array\n",
    "\n",
    "# Display the image\n",
    "plt.imshow(image_array, cmap='gray')\n",
    "plt.title('DICOM Image')\n",
    "plt.show()\n"
   ],
   "metadata": {
    "collapsed": false
   }
  },
  {
   "cell_type": "markdown",
   "source": [
    "### NIfTI (Neuroimaging Informatics Technology Initiative)"
   ],
   "metadata": {
    "collapsed": false
   }
  },
  {
   "cell_type": "code",
   "execution_count": null,
   "outputs": [],
   "source": [
    "# Install the libraries for handling and visualizing NIfTI files\n",
    "!pip install nibabel matplotlib\n",
    "\n",
    "import nibabel as nib # Library for working with NIfTI files\n",
    "import matplotlib.pyplot as plt # Library for plotting the image\n",
    "\n",
    "# Load a NIfTI file\n",
    "file_path = 'path_to_nifti_file.nii'\n",
    "nifti_data = nib.load(file_path)\n",
    "\n",
    "# Accessing metadata information\n",
    "print(f\"Image Shape: {nifti_data.shape}\") # dimensions of the image\n",
    "print(f\"Affine Matrix: {nifti_data.affine}\") # affine transformation matrix for image orientation with respect to the world coordinate system.\n",
    "\n",
    "# Accessing pixel data\n",
    "image_array = nifti_data.get_fdata()\n",
    "\n",
    "# Display a slice of the image\n",
    "plt.imshow(image_array[:, :, image_array.shape[2]//2], cmap='gray')\n",
    "plt.title('NIfTI Image')\n",
    "plt.show()\n"
   ],
   "metadata": {
    "collapsed": false
   }
  },
  {
   "cell_type": "code",
   "execution_count": null,
   "outputs": [],
   "source": [],
   "metadata": {
    "collapsed": false
   }
  }
 ],
 "metadata": {
  "kernelspec": {
   "display_name": "Python 3",
   "language": "python",
   "name": "python3"
  },
  "language_info": {
   "codemirror_mode": {
    "name": "ipython",
    "version": 2
   },
   "file_extension": ".py",
   "mimetype": "text/x-python",
   "name": "python",
   "nbconvert_exporter": "python",
   "pygments_lexer": "ipython2",
   "version": "2.7.6"
  }
 },
 "nbformat": 4,
 "nbformat_minor": 0
}
